{
 "cells": [
  {
   "cell_type": "code",
   "execution_count": 1,
   "metadata": {},
   "outputs": [
    {
     "name": "stderr",
     "output_type": "stream",
     "text": [
      "WARNING (theano.configdefaults): g++ not available, if using conda: `conda install m2w64-toolchain`\n",
      "C:\\ProgramData\\Anaconda3\\lib\\site-packages\\theano\\configdefaults.py:560: UserWarning: DeprecationWarning: there is no c++ compiler.This is deprecated and with Theano 0.11 a c++ compiler will be mandatory\n",
      "  warnings.warn(\"DeprecationWarning: there is no c++ compiler.\"\n",
      "WARNING (theano.configdefaults): g++ not detected ! Theano will be unable to execute optimized C-implementations (for both CPU and GPU) and will default to Python implementations. Performance will be severely degraded. To remove this warning, set Theano flags cxx to an empty string.\n",
      "WARNING (theano.tensor.blas): Using NumPy C-API based implementation for BLAS functions.\n",
      "C:\\ProgramData\\Anaconda3\\lib\\site-packages\\h5py\\__init__.py:36: FutureWarning: Conversion of the second argument of issubdtype from `float` to `np.floating` is deprecated. In future, it will be treated as `np.float64 == np.dtype(float).type`.\n",
      "  from ._conv import register_converters as _register_converters\n",
      "Using TensorFlow backend.\n"
     ]
    }
   ],
   "source": [
    "# https://machinelearningmastery.com/time-series-prediction-with-deep-learning-in-python-with-keras/\n",
    "    \n",
    "import sys\n",
    "import math\n",
    "\n",
    "# !{sys.executable} -m pip install --upgrade pip\n",
    "\n",
    "try:\n",
    "    import numpy as np\n",
    "except ModuleNotFoundError:\n",
    "    !{sys.executable} -m pip install numpy\n",
    "    import numpy as np\n",
    "    \n",
    "\n",
    "try:\n",
    "    import pandas as pd\n",
    "except ModuleNotFoundError:\n",
    "    !{sys.executable} -m pip install pandas\n",
    "    import pandas as pd\n",
    "\n",
    "    \n",
    "try:\n",
    "    import matplotlib\n",
    "    import matplotlib.pyplot as plt\n",
    "except ModuleNotFoundError:\n",
    "    !{sys.executable} -m pip install matplotlib\n",
    "    import matplotlib.pyplot as plt\n",
    "\n",
    "    \n",
    "try:\n",
    "    import psycopg2\n",
    "except ModuleNotFoundError:\n",
    "    !{sys.executable} -m pip install psycopg2\n",
    "    import psycopg2\n",
    "    \n",
    "    \n",
    "try:\n",
    "    import scipy\n",
    "except ModuleNotFoundError:\n",
    "    !{sys.executable} -m pip install scipy\n",
    "    import scipy\n",
    "\n",
    "        \n",
    "try:\n",
    "    import sklearn\n",
    "except ModuleNotFoundError:\n",
    "    !{sys.executable} -m pip install sklearn\n",
    "    import sklearn\n",
    "\n",
    "    \n",
    "try:\n",
    "    import statsmodels\n",
    "except ModuleNotFoundError:\n",
    "    !{sys.executable} -m pip install statsmodels\n",
    "    import statsmodels\n",
    "\n",
    "\n",
    "try:\n",
    "    import theano\n",
    "except ModuleNotFoundError:\n",
    "    !{sys.executable} -m pip install theano\n",
    "    import theano\n",
    "\n",
    "\n",
    "try:\n",
    "    import tensorflow\n",
    "except ModuleNotFoundError:\n",
    "    !{sys.executable} -m pip install tensorflow\n",
    "    import tensorflow\n",
    "\n",
    "\n",
    "try:\n",
    "    import keras\n",
    "except ModuleNotFoundError:\n",
    "    !{sys.executable} -m pip install keras\n",
    "    import keras\n",
    "    \n",
    "try:\n",
    "    import ann_visualizer\n",
    "except ModuleNotFoundError:\n",
    "    import sys\n",
    "    !{sys.executable} -m pip install ann_visualizer\n",
    "    import ann_visualizer\n",
    "    \n",
    "try:\n",
    "    import graphviz\n",
    "except ModuleNotFoundError:\n",
    "    !{sys.executable} -m pip install graphviz\n",
    "    import graphviz\n",
    "    \n",
    "    \n",
    "from keras.models import Sequential\n",
    "from keras.layers import Dense"
   ]
  },
  {
   "cell_type": "code",
   "execution_count": 2,
   "metadata": {},
   "outputs": [],
   "source": [
    "\"\"\"\n",
    "Make plot outputs appear and be stored within the notebook\n",
    "\"\"\"\n",
    "%matplotlib inline\n",
    "\n",
    "\"\"\"\n",
    "fix random seed for reproducibility\n",
    "\"\"\"\n",
    "np.random.seed(7)"
   ]
  },
  {
   "cell_type": "code",
   "execution_count": 3,
   "metadata": {},
   "outputs": [],
   "source": [
    "from numpy import genfromtxt\n",
    "\n",
    "def get_df():\n",
    "    \"\"\"\n",
    "    Query the Postgres database and return the data set in a Pandas dataframe with (x,y)\n",
    "    \"\"\"\n",
    "    \n",
    "    # conn = psycopg2.connect(DATABASE_URL)\n",
    "    # cur = conn.cursor()\n",
    "    # cur.execute('select * from project2')\n",
    "    data = genfromtxt(r\"C:\\Users\\cccarmer\\Documents\\asu\\EEE 511\\code\\proj3\\data.csv\")\n",
    "    df = pd.DataFrame(data, columns=['y'])\n",
    "    # conn.commit()\n",
    "    # conn.close()\n",
    "    \n",
    "    return df\n"
   ]
  },
  {
   "cell_type": "code",
   "execution_count": 4,
   "metadata": {},
   "outputs": [
    {
     "name": "stdout",
     "output_type": "stream",
     "text": [
      "184 91\n"
     ]
    }
   ],
   "source": [
    "from keras.models import Sequential\n",
    "from keras.layers.recurrent import LSTM, SimpleRNN\n",
    "from keras.layers.core import Dense, Activation, Dropout\n",
    "from keras.utils.vis_utils import plot_model\n",
    "\n",
    "from sklearn.preprocessing import MinMaxScaler\n",
    "from sklearn.metrics import mean_squared_error\n",
    "from sklearn.utils import shuffle\n",
    "\n",
    "data = get_df()\n",
    "\n",
    "# Get the raw data values from the pandas data frame.\n",
    "dataset = data.values.astype(\"float32\")\n",
    "\n",
    "# split into train and test sets\n",
    "train_size = int(len(dataset) * 0.67)\n",
    "test_size = len(dataset) - train_size\n",
    "train, test = dataset[0:train_size,:], dataset[train_size:len(dataset),:]\n",
    "print(len(train), len(test))"
   ]
  },
  {
   "cell_type": "code",
   "execution_count": 5,
   "metadata": {},
   "outputs": [],
   "source": [
    "# convert an array of values into a dataset matrix\n",
    "def create_dataset(dataset, look_back=1):\n",
    "    dataX, dataY = [], []\n",
    "    for i in range(len(dataset)-look_back-1):\n",
    "        a = dataset[i:(i+look_back), 0]\n",
    "        dataX.append(a)\n",
    "        dataY.append(dataset[i + look_back, 0])\n",
    "    return np.array(dataX), np.array(dataY)"
   ]
  },
  {
   "cell_type": "code",
   "execution_count": 6,
   "metadata": {},
   "outputs": [],
   "source": [
    "# reshape into X=t and Y=t+1\n",
    "look_back = 3\n",
    "trainX, trainY = create_dataset(train, look_back)\n",
    "testX, testY = create_dataset(test, look_back)"
   ]
  },
  {
   "cell_type": "code",
   "execution_count": 7,
   "metadata": {},
   "outputs": [],
   "source": [
    "%%capture\n",
    "# create and fit Multilayer Perceptron model\n",
    "model = Sequential()\n",
    "model.add(Dense(8, input_dim=look_back, activation='relu'))\n",
    "model.add(Dense(1))\n",
    "model.compile(loss='mean_squared_error', optimizer='adam')\n",
    "model.fit(trainX, trainY, epochs=200, batch_size=2, verbose=2)\n"
   ]
  },
  {
   "cell_type": "code",
   "execution_count": 8,
   "metadata": {},
   "outputs": [
    {
     "name": "stdout",
     "output_type": "stream",
     "text": [
      "Train Score: 177.20 MSE (13.31 RMSE)\n",
      "Test Score: 242.04 MSE (15.56 RMSE)\n"
     ]
    }
   ],
   "source": [
    "# Estimate model performance\n",
    "trainScore = model.evaluate(trainX, trainY, verbose=0)\n",
    "print('Train Score: %.2f MSE (%.2f RMSE)' % (trainScore, math.sqrt(trainScore)))\n",
    "testScore = model.evaluate(testX, testY, verbose=0)\n",
    "print('Test Score: %.2f MSE (%.2f RMSE)' % (testScore, math.sqrt(testScore)))"
   ]
  },
  {
   "cell_type": "code",
   "execution_count": 9,
   "metadata": {},
   "outputs": [
    {
     "data": {
      "image/png": "[encoded data removed]",
      "text/plain": [
       "<Figure size 432x288 with 1 Axes>"
      ]
     },
     "metadata": {},
     "output_type": "display_data"
    }
   ],
   "source": [
    "# generate predictions for training\n",
    "trainPredict = model.predict(trainX)\n",
    "testPredict = model.predict(testX)\n",
    "\n",
    "# shift train predictions for plotting\n",
    "trainPredictPlot = np.empty_like(dataset)\n",
    "trainPredictPlot[:, :] = np.nan\n",
    "trainPredictPlot[look_back:len(trainPredict)+look_back, :] = trainPredict\n",
    "\n",
    "# shift test predictions for plotting\n",
    "testPredictPlot = np.empty_like(dataset)\n",
    "testPredictPlot[:, :] = np.nan\n",
    "testPredictPlot[len(trainPredict)+(look_back*2)+1:len(dataset)-1, :] = testPredict\n",
    "\n",
    "# plot baseline and predictions\n",
    "plt.plot(dataset, label = 'data set')\n",
    "plt.plot(trainPredictPlot, label = 'training')\n",
    "plt.plot(testPredictPlot, label = 'test')\n",
    "plt.xlabel(\"time\")\n",
    "plt.ylabel(\"y\")\n",
    "plt.title(\"Comparison true vs. predicted training / test\")\n",
    "plt.legend()\n",
    "plt.show()"
   ]
  }
 ],
 "metadata": {
  "kernelspec": {
   "display_name": "Python 3",
   "language": "python",
   "name": "python3"
  },
  "language_info": {
   "codemirror_mode": {
    "name": "ipython",
    "version": 3
   },
   "file_extension": ".py",
   "mimetype": "text/x-python",
   "name": "python",
   "nbconvert_exporter": "python",
   "pygments_lexer": "ipython3",
   "version": "3.6.5"
  }
 },
 "nbformat": 4,
 "nbformat_minor": 2
}
